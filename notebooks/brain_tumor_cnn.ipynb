{
  "cells": [
    {
      "cell_type": "code",
      "execution_count": null,
      "metadata": {
        "id": "Wvz4QRkb4hvj"
      },
      "outputs": [],
      "source": [
        "import sys\n",
        "sys.path.append(r'../')\n",
        "\n",
        "import setup.configurations\n",
        "from setup.parameters import class_names, image_size, n_folds, n_classes\n",
        "from setup.data_loader import load_data, preprocessing\n",
        "\n",
        "from utils.visualization import *\n",
        "from utils.utils import make_gradcam_heatmap, convert_labels_to_indices, calculate_class_weights\n",
        "from utils.training import get_training_callbacks, run_cross_validation\n",
        "\n",
        "from models.model import get_model\n",
        "\n",
        "from keras.models import load_model\n",
        "\n",
        "from sklearn.preprocessing import label_binarize\n",
        "from sklearn.metrics import roc_curve, auc, classification_report, confusion_matrix, precision_recall_curve, average_precision_score\n",
        "\n",
        "import matplotlib.pyplot as plt\n",
        "import pandas as pd\n",
        "import seaborn as sns\n",
        "import cv2\n",
        "from itertools import cycle"
      ]
    },
    {
      "cell_type": "code",
      "execution_count": null,
      "metadata": {
        "id": "6gJMswHht1a5"
      },
      "outputs": [],
      "source": [
        "training_images = []\n",
        "training_labels = []\n",
        "test_images = []\n",
        "test_labels = []\n",
        "\n",
        "training_images, training_labels, test_images, test_labels = load_data(class_names)"
      ]
    },
    {
      "cell_type": "code",
      "execution_count": null,
      "metadata": {
        "id": "O_6piHasx1UT"
      },
      "outputs": [],
      "source": [
        "# Calculate the class weights to avoid class imbalance\n",
        "class_weights = calculate_class_weights(training_labels)\n",
        "print(class_weights)"
      ]
    },
    {
      "cell_type": "code",
      "execution_count": null,
      "metadata": {
        "id": "qbX3om2LVMip"
      },
      "outputs": [],
      "source": [
        "# Convert training and test labels to unique indices\n",
        "training_labels, test_labels = convert_labels_to_indices(training_labels, test_labels)"
      ]
    },
    {
      "cell_type": "code",
      "execution_count": null,
      "metadata": {
        "id": "y2pIzozZ7Gc4"
      },
      "outputs": [],
      "source": [
        "print_class_statistics(training_labels, class_names, \"Training\")\n",
        "print_class_statistics(test_labels, class_names, \"Test\")"
      ]
    },
    {
      "cell_type": "code",
      "execution_count": null,
      "metadata": {
        "id": "7pqmvBXKtFfX"
      },
      "outputs": [],
      "source": [
        "# Plot image examples for sanity check\n",
        "plot_random_image_examples(training_images, training_labels, class_names, num_examples=4)"
      ]
    },
    {
      "cell_type": "code",
      "execution_count": null,
      "metadata": {
        "id": "9lTZhdZRD44t"
      },
      "outputs": [],
      "source": [
        "callbacks = get_training_callbacks()"
      ]
    },
    {
      "cell_type": "code",
      "execution_count": null,
      "metadata": {
        "id": "kIZ4Ljtr_y6D"
      },
      "outputs": [],
      "source": [
        "model_history = run_cross_validation(n_folds, training_images, training_labels, class_weights, callbacks)"
      ]
    },
    {
      "cell_type": "code",
      "execution_count": null,
      "metadata": {},
      "outputs": [],
      "source": [
        "# Load the trained model\n",
        "model = load_model('../weights/weights.keras')"
      ]
    },
    {
      "cell_type": "code",
      "execution_count": null,
      "metadata": {
        "id": "21ea14IGdhsq"
      },
      "outputs": [],
      "source": [
        "# Evaluate the model on the test data\n",
        "results = model.evaluate(test_images, test_labels)\n",
        "\n",
        "# Make predictions on the test data\n",
        "model_prediction = model.predict(test_images)"
      ]
    },
    {
      "cell_type": "code",
      "execution_count": null,
      "metadata": {
        "id": "DjbNOSCqSHxk"
      },
      "outputs": [],
      "source": [
        "# Convert predictions to class labels\n",
        "predicted_classes = np.argmax(np.round(model_prediction), axis = 1)\n",
        "\n",
        "# Print the classification report\n",
        "print(classification_report(test_labels, predicted_classes, target_names = class_names))"
      ]
    },
    {
      "cell_type": "code",
      "execution_count": null,
      "metadata": {
        "id": "R2zUCgimG_1V"
      },
      "outputs": [],
      "source": [
        "# Plot the loss metrics from the model history\n",
        "plot_metrics(model_history, 'Loss', 'Loss', n_folds, linestyle='dashdot')\n",
        "\n",
        "# Plot the accuracy metrics from the model history\n",
        "plot_metrics(model_history, 'Accuracy', 'Accuracy', n_folds, linestyle='dashdot')"
      ]
    },
    {
      "cell_type": "code",
      "execution_count": null,
      "metadata": {
        "id": "_MS_-gPsK8JG"
      },
      "outputs": [],
      "source": [
        "fpr = dict()\n",
        "tpr = dict()\n",
        "roc_auc = dict()\n",
        "\n",
        "test_labels_bin = label_binarize(test_labels, classes=[0, 1, 2, 3])\n",
        "\n",
        "# Calculate ROC curve and ROC area for each class\n",
        "for i in range(n_classes):\n",
        "    fpr[i], tpr[i], _ = roc_curve(test_labels_bin[:, i], model_prediction[:, i])\n",
        "    roc_auc[i] = auc(fpr[i], tpr[i])\n",
        "\n",
        "colors = cycle(['aqua', 'darkorange', 'cornflowerblue', 'green'])\n",
        "for i, color in zip(range(n_classes), colors):\n",
        "    plt.plot(fpr[i], tpr[i], color=color, lw=2,\n",
        "             label=f'ROC curve of class {class_names[i]} (area = {roc_auc[i]:0.3f})')\n",
        "\n",
        "plt.plot([0, 1], [0, 1], 'k--', lw=2)\n",
        "plt.xlim([0.0, 1.0])\n",
        "plt.ylim([0.0, 1.05])\n",
        "plt.xlabel('False Positive Rate')\n",
        "plt.ylabel('True Positive Rate')\n",
        "plt.title('Receiver Operating Characteristic for multi-class data')\n",
        "plt.legend(loc=\"lower right\")\n",
        "plt.show()"
      ]
    },
    {
      "cell_type": "code",
      "execution_count": null,
      "metadata": {
        "id": "z5aqBc95h3Oz"
      },
      "outputs": [],
      "source": [
        "precision = dict()\n",
        "recall = dict()\n",
        "average_precision = dict()\n",
        "\n",
        "# Calculate precision, recall, and average precision for each class\n",
        "for i in range(n_classes):\n",
        "    precision[i], recall[i], _ = precision_recall_curve(test_labels_bin[:, i], model_prediction[:, i])\n",
        "    average_precision[i] = average_precision_score(test_labels_bin[:, i], model_prediction[:, i])\n",
        "\n",
        "colors = cycle(['navy', 'turquoise', 'darkorange', 'cornflowerblue', 'teal'])\n",
        "for i, color in zip(range(n_classes), colors):\n",
        "    plt.plot(recall[i], precision[i], color=color, lw=2,\n",
        "             label=f'Precision-Recall curve of class {class_names[i]} (area = {average_precision[i]:0.3f})')\n",
        "\n",
        "plt.xlabel('Recall')\n",
        "plt.ylabel('Precision')\n",
        "plt.xlim([0.0, 1.0])\n",
        "plt.ylim([0.0, 1.05])\n",
        "plt.title('Precision-Recall curve for multi-class data')\n",
        "plt.legend(loc=\"lower left\")\n",
        "plt.show()"
      ]
    },
    {
      "cell_type": "code",
      "execution_count": null,
      "metadata": {
        "id": "jWCzHsjB1tGP"
      },
      "outputs": [],
      "source": [
        "# Create confusion matrix\n",
        "cmat = confusion_matrix(test_labels, predicted_classes)\n",
        "cm_df = pd.DataFrame(cmat)\n",
        "\n",
        "# Create DataFrame for confusion matrix with class names as index and column names\n",
        "cmat_df = pd.DataFrame(cmat,\n",
        "                       index=class_names,\n",
        "                       columns=class_names)\n",
        "\n",
        "# Plot confusion matrix using seaborn heatmap\n",
        "plt.figure(figsize=(10, 6))\n",
        "sns.heatmap(cmat, annot=True, cmap='Blues', fmt=\"d\",\n",
        "            cbar=False,\n",
        "            xticklabels=class_names,\n",
        "            yticklabels=class_names)\n",
        "plt.title('Matriz de Confusão')\n",
        "plt.show()"
      ]
    },
    {
      "cell_type": "code",
      "execution_count": null,
      "metadata": {
        "id": "U5wj3wzGeRN7"
      },
      "outputs": [],
      "source": [
        "# Specify a random test image from the validation dataset\n",
        "orig_img = cv2.imread(r'..\\data\\validation_dataset\\Testing\\meningioma_tumor\\image(82).jpg')  # Load the image\n",
        "img = cv2.resize(orig_img, (image_size, image_size))  # Resize the image to the desired size\n",
        "img = preprocessing(img)  # Apply preprocessing steps\n",
        "img = img.astype('float32') / 255.0  # Normalize the image to [0, 1] range\n",
        "x = np.expand_dims(img, axis=0)  # Expand dimensions to fit model input requirements"
      ]
    },
    {
      "cell_type": "code",
      "execution_count": null,
      "metadata": {
        "id": "OpDexQf9KZfM"
      },
      "outputs": [],
      "source": [
        "# Make a prediction\n",
        "predictions = model.predict(x)\n",
        "\n",
        "# Convert predictions to percentages\n",
        "percentages = predictions[0] * 100  # Assuming predictions are in a scale of 0 to 1\n",
        "\n",
        "for i, class_name in enumerate(class_names):\n",
        "    print(f\"Probability of '{class_name}': {percentages[i]:.2f}%\")"
      ]
    },
    {
      "cell_type": "code",
      "execution_count": null,
      "metadata": {
        "id": "z6Ujq_pPp0mQ"
      },
      "outputs": [],
      "source": [
        "# Get the names of all convolutional layers\n",
        "conv_layer_names = [layer.name for layer in model.layers if 'conv' in layer.name]\n",
        "\n",
        "plt.figure(figsize=(20,20))\n",
        "\n",
        "counter = 0\n",
        "\n",
        "# Iterate over each convolutional layer\n",
        "for layer_name in conv_layer_names:\n",
        "    # Generate Grad-CAM heatmap\n",
        "    heatmap = make_gradcam_heatmap(x, model, layer_name)\n",
        "\n",
        "    # Convert original image to RGB\n",
        "    orig_img_rgb = cv2.cvtColor(orig_img, cv2.COLOR_BGR2RGB)\n",
        "\n",
        "    # Create a colored heatmap\n",
        "    heatmap_colored = cv2.applyColorMap(np.uint8(255 * heatmap), cv2.COLORMAP_JET)\n",
        "    heatmap_colored = cv2.cvtColor(heatmap_colored, cv2.COLOR_BGR2RGB)\n",
        "\n",
        "    # Resize the heatmap to match the original image\n",
        "    heatmap_resized = cv2.resize(heatmap_colored, (orig_img_rgb.shape[1], orig_img_rgb.shape[0]))\n",
        "\n",
        "    # Superimpose the heatmap onto the original image\n",
        "    superimposed_img = np.uint8(heatmap_resized * 0.5 + orig_img_rgb * 0.5)\n",
        "\n",
        "    plt.subplot(5,5, counter+1)\n",
        "    plt.imshow(superimposed_img)\n",
        "    plt.xlabel(f'{layer_name}', fontsize=24)\n",
        "\n",
        "    counter = counter + 1\n",
        "\n",
        "plt.show()"
      ]
    }
  ],
  "metadata": {
    "accelerator": "GPU",
    "colab": {
      "gpuClass": "premium",
      "gpuType": "T4",
      "machine_shape": "hm",
      "provenance": [],
      "toc_visible": true
    },
    "kernelspec": {
      "display_name": "Python 3.11.4 64-bit",
      "language": "python",
      "name": "python3"
    },
    "language_info": {
      "codemirror_mode": {
        "name": "ipython",
        "version": 3
      },
      "file_extension": ".py",
      "mimetype": "text/x-python",
      "name": "python",
      "nbconvert_exporter": "python",
      "pygments_lexer": "ipython3",
      "version": "3.11.4"
    },
    "vscode": {
      "interpreter": {
        "hash": "c261aea317cc0286b3b3261fbba9abdec21eaa57589985bb7a274bf54d6cc0a7"
      }
    }
  },
  "nbformat": 4,
  "nbformat_minor": 0
}
